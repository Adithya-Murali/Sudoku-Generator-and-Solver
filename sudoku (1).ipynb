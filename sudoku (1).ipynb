{
 "cells": [
  {
   "cell_type": "markdown",
   "metadata": {},
   "source": [
    "We are going to implement a sudoku solver.\n",
    "This is inspired by the solution by Peter Norvig (http://norvig.com/sudoku.html)\n",
    "\n",
    "It utilisees constrait satisfaction and propogation as well as search algorithm to implement the solution.\n",
    "\n",
    "This code also contains a generator to produce a random sudoku problem which can then be solved by the solver."
   ]
  },
  {
   "cell_type": "markdown",
   "metadata": {},
   "source": [
    "## Terminology used\n",
    "\n",
    "*rows: Represented by alphabets from A to I  \n",
    "*columns: Represented by numbers from 1 to 9  \n",
    "*cells: Holds label of each square that can carry a value from 1 to 9. Labeling is a combination of row and column value. ie., A1, E7  \n",
    "*grid: The string representing the given sudoku problem with . or 0 for the empty cells  \n",
    "*units_list: List of all the units in the Sudoku. ie., the rows, columns and 3*3 squares   \n",
    "*units: Dictionary with cell label as key and list of labels of units that contain the key cell  \n",
    "*peers: Dictionary with cell label as key and list of labels of all the cells that can contradict the given cell  \n",
    "*values: Dictionary with cell label as key and list of possible values of the cell"
   ]
  },
  {
   "cell_type": "code",
   "execution_count": 1,
   "metadata": {},
   "outputs": [],
   "source": [
    "def gen(A,B):       #generates the name of the cell, eg., 'A1' is first cell and 'I9' is last cell\n",
    "    return [a+b for a in A for b in B]\n",
    "\n",
    "digits='123456789'\n",
    "rows='ABCDEFGHI'\n",
    "cols=digits\n",
    "cells=gen(rows,cols)\n",
    "\n",
    "\n",
    "#The dimensions that require to be checked for each cell are in the units. These include the row, column and 3*3 square containing the cell\n",
    "units_list=([gen(rows,c) for c in cols] +\n",
    "          [gen(r,cols) for r in rows] +\n",
    "          [gen(r,c) for r in ('ABC','DEF','GHI') for c in ('123','456','789')])\n",
    "\n",
    "units=dict((c,[u for u in units_list if c in u]) for c in cells)\n",
    "\n",
    "\n",
    "#All the cells that can contradict a cell are the peers of that cell\n",
    "peers = dict((c, set(sum(units[c],[]))-set([c]))\n",
    "             for c in cells)"
   ]
  },
  {
   "cell_type": "code",
   "execution_count": 2,
   "metadata": {},
   "outputs": [
    {
     "name": "stdout",
     "output_type": "stream",
     "text": [
      "{'A8', 'A3', 'B3', 'A5', 'F1', 'B2', 'A7', 'A9', 'G1', 'A2', 'C3', 'C1', 'I1', 'E1', 'A6', 'C2', 'B1', 'A4', 'H1', 'D1'}\n"
     ]
    }
   ],
   "source": [
    "print(peers['A1'])"
   ]
  },
  {
   "cell_type": "code",
   "execution_count": 3,
   "metadata": {},
   "outputs": [],
   "source": [
    "#Convert the list of the values into a dictionary with given cell as key\n",
    "\n",
    "def parse_grid(grid):\n",
    "    values=dict((c, digits) for c in cells)\n",
    "    for c,d in grid_values(grid).items():\n",
    "        if d in digits and not assign(values,c,d):\n",
    "            return False\n",
    "    return values\n",
    "\n",
    "def grid_values(grid):\n",
    "    given = [g for g in grid if g in digits or g in '0.']\n",
    "    assert len(given) == 81\n",
    "    return dict(zip(cells, given))"
   ]
  },
  {
   "cell_type": "code",
   "execution_count": 4,
   "metadata": {},
   "outputs": [],
   "source": [
    "def display(values):\n",
    "    width = 1+max(len(values[c]) for c in cells)\n",
    "    line = '+'.join(['-'*(width*3)]*3)\n",
    "    for r in rows:\n",
    "        print(''.join(values[r+c].center(width)+('|' if c in '36' else '')\n",
    "                      for c in cols))\n",
    "        if r in 'CF': \n",
    "            print(line)\n",
    "    print"
   ]
  },
  {
   "cell_type": "code",
   "execution_count": 5,
   "metadata": {},
   "outputs": [],
   "source": [
    "#To assign a value to a cell, all other values of the cell are eliminated\n",
    "\n",
    "def assign(values,c,d):\n",
    "    other_values=values[c].replace(d,'')\n",
    "    if all(eliminate(values,c,d2) for d2 in other_values):\n",
    "        return values\n",
    "    else:\n",
    "        return False"
   ]
  },
  {
   "cell_type": "code",
   "execution_count": 6,
   "metadata": {},
   "outputs": [],
   "source": [
    "#To eliminate a value from a cell, first remove value from values[cell].\n",
    "\n",
    "def eliminate(values,c,d):\n",
    "    if d not in values[c]:\n",
    "        return values\n",
    "    \n",
    "    values[c]=values[c].replace(d,'')\n",
    "    if len(values[c])==0:\n",
    "        return False\n",
    "    elif len(values[c])==1:\n",
    "        d2=values[c]\n",
    "        if not all(eliminate(values, c2, d2) for c2 in peers[c]):\n",
    "            return False\n",
    "    \n",
    "#Then, check each unit of the cell that has given digit in values. If there's only one possible cell, assign value to that cell\n",
    "    for u in units[c]:\n",
    "        d_cells=[c for c in u if d in values[c]]        \n",
    "        if len(d_cells)==0:\n",
    "            return False\n",
    "        elif len(d_cells)==1:\n",
    "            if not assign(values,d_cells[0],d):\n",
    "                return False    \n",
    "    return values"
   ]
  },
  {
   "cell_type": "code",
   "execution_count": 7,
   "metadata": {},
   "outputs": [],
   "source": [
    "#Return some element of seq that is true. This is used to give false value to the branches that do not give solution\n",
    "def some(seq):\n",
    "    for e in seq:\n",
    "        if e:\n",
    "            return e\n",
    "    return False"
   ]
  },
  {
   "cell_type": "code",
   "execution_count": 8,
   "metadata": {},
   "outputs": [],
   "source": [
    "#This calls the search function\n",
    "def solve(grid):\n",
    "    return search(parse_grid(grid))\n",
    "\n",
    "\n",
    "#Using depth-first search and propagation, try all possible values.\n",
    "def search(values):\n",
    "    if values is False:\n",
    "        return False     # Failed earlier\n",
    "    \n",
    "    if all(len(values[c]) == 1 for c in cells): \n",
    "        return values    # Solved!\n",
    "\n",
    "    # Chose the unfilled cell c with the fewest possibilities\n",
    "    n,c = min((len(values[c]),c) for c in cells if len(values[c]) > 1)\n",
    "    return some(search(assign(values.copy(), c, d)) for d in values[c])"
   ]
  },
  {
   "cell_type": "code",
   "execution_count": 9,
   "metadata": {},
   "outputs": [],
   "source": [
    "#Return a randomly shuffled copy of the input sequence. This is used to select which cells must be filled to geneate sudoku\n",
    "def shuffled(seq):\n",
    "    seq = list(seq)\n",
    "    random.shuffle(seq)\n",
    "    return seq"
   ]
  },
  {
   "cell_type": "code",
   "execution_count": 10,
   "metadata": {},
   "outputs": [],
   "source": [
    "#Create a random sudoku puzzle with N or more values given. When contradiction occurs, restart the process\n",
    "def random_puzzle(N=17):\n",
    "    values = dict((c, digits) for c in cells)\n",
    "    for c in shuffled(cells):\n",
    "        if not assign(values, c, random.choice(values[c])):\n",
    "            break\n",
    "        dc = [values[c] for c in cells if len(values[c]) == 1]\n",
    "        if len(dc) >= N and len(set(dc)) >= 8:\n",
    "            return ''.join(values[c] if len(values[c])==1 else '.' for c in cells)   #puzzle in the grid form\n",
    "    return random_puzzle(N)         # Give up and make a new puzzle"
   ]
  },
  {
   "cell_type": "code",
   "execution_count": 11,
   "metadata": {},
   "outputs": [],
   "source": [
    "import time, random\n",
    "\n",
    "#Calls the solve function and provides all outputs\n",
    "def solution(grid):\n",
    "    start = time.process_time()\n",
    "    values = solve(grid)\n",
    "    t = time.process_time()-start\n",
    "\n",
    "    print('\\n\\tThe generated Sudoku: ')\n",
    "    display(grid_values(grid))\n",
    "    \n",
    "    print('\\n\\n\\tSolved Sudoku: ')\n",
    "    if values:     #If solution found\n",
    "        display(values)\n",
    "    print('\\n\\tTime taken: (%.2f seconds)\\n' %t)\n"
   ]
  },
  {
   "cell_type": "code",
   "execution_count": 12,
   "metadata": {},
   "outputs": [
    {
     "name": "stdout",
     "output_type": "stream",
     "text": [
      "Enter the minimum number of values that must be already given in the sudoku puzzle: 10\n",
      "\n",
      "\tThe generated Sudoku: \n",
      ". 5 3 |. . . |. 7 . \n",
      "8 . 9 |. . . |. 3 2 \n",
      ". . 7 |. 3 . |. . 9 \n",
      "------+------+------\n",
      "9 . . |. 2 . |3 . . \n",
      ". . 2 |. . . |. . . \n",
      ". . . |9 1 . |2 . . \n",
      "------+------+------\n",
      ". 9 . |. . . |. . . \n",
      ". . . |. 4 . |. . . \n",
      "4 . . |. . . |. 2 1 \n",
      "\n",
      "\n",
      "\tSolved Sudoku: \n",
      "1 5 3 |2 6 9 |4 7 8 \n",
      "8 4 9 |1 5 7 |6 3 2 \n",
      "2 6 7 |4 3 8 |1 5 9 \n",
      "------+------+------\n",
      "9 7 4 |8 2 5 |3 1 6 \n",
      "6 1 2 |3 7 4 |8 9 5 \n",
      "5 3 8 |9 1 6 |2 4 7 \n",
      "------+------+------\n",
      "3 9 1 |7 8 2 |5 6 4 \n",
      "7 2 5 |6 4 1 |9 8 3 \n",
      "4 8 6 |5 9 3 |7 2 1 \n",
      "\n",
      "\tTime taken: (0.02 seconds)\n",
      "\n"
     ]
    }
   ],
   "source": [
    "#Implement solution on a randomly generated puzzle.\n",
    "N=int(input('Enter the minimum number of values that must be already given in the sudoku puzzle: '))\n",
    "solution(random_puzzle(N))"
   ]
  }
 ],
 "metadata": {
  "kernelspec": {
   "display_name": "Python 3",
   "language": "python",
   "name": "python3"
  },
  "language_info": {
   "codemirror_mode": {
    "name": "ipython",
    "version": 3
   },
   "file_extension": ".py",
   "mimetype": "text/x-python",
   "name": "python",
   "nbconvert_exporter": "python",
   "pygments_lexer": "ipython3",
   "version": "3.7.5"
  }
 },
 "nbformat": 4,
 "nbformat_minor": 2
}
